{
 "cells": [
  {
   "cell_type": "markdown",
   "metadata": {
    "id": "n8QlFzjPRIGN"
   },
   "source": [
    "# EZKL Experiment\n",
    "\n",
    "**Learning Objectives**\n",
    "1. This is based off the ezkl-demo example provided by ezkl repo\n",
    "2. Learn some basic AI/ML techniques by training a toy model in pytorch to perform classification (OPENSHS data in this example)\n",
    "3. Convert the LSTM model into zk circuit with ezkl to do provable inference\n",
    "4. Create a solidity verifier and deploy it on remix\n",
    "\n",
    "**Important Note**: You might want to avoid calling \"Run All\". There's some file locking issue with Colab which can cause weird bugs. To mitigate this issue you should run cell by cell on Colab."
   ]
  },
  {
   "cell_type": "markdown",
   "metadata": {
    "id": "dx81GOIySIpa"
   },
   "source": [
    "# Step 1: Training a LSTM model"
   ]
  },
  {
   "cell_type": "code",
   "execution_count": 61,
   "metadata": {
    "id": "gvQ5HL1bTDWF"
   },
   "outputs": [],
   "source": [
    "import numpy as np\n",
    "import pandas as pd\n",
    "import matplotlib.pyplot as plt\n",
    "\n",
    "from sklearn.model_selection import train_test_split\n",
    "from sklearn.metrics import accuracy_score, precision_score, recall_score\n",
    "from sklearn.metrics import f1_score, accuracy_score\n",
    "\n",
    "import torch\n",
    "import torch.nn as nn\n",
    "import torch.nn.functional as F\n",
    "from torch.autograd import Variable\n",
    "from torch.utils.data import DataLoader, TensorDataset, random_split\n",
    "\n",
    "\n",
    "import os\n",
    "import tqdm\n",
    "from data import *\n",
    "from dotenv import load_dotenv"
   ]
  },
  {
   "cell_type": "code",
   "execution_count": 62,
   "metadata": {
    "colab": {
     "base_uri": "https://localhost:8080/",
     "height": 424
    },
    "id": "C4XXA1hoU30c",
    "outputId": "4fbd47ec-88d1-4ef7-baee-3e3894cc29db"
   },
   "outputs": [
    {
     "name": "stdout",
     "output_type": "stream",
     "text": [
      "(30548, 15, 29) (30548, 6)\n",
      "(7626, 15, 29) (7626, 6)\n"
     ]
    }
   ],
   "source": [
    "# Load environment variables\n",
    "load_dotenv()\n",
    "base_path = os.environ.get(\"ICBC25_PATH\")\n",
    "data_path = os.path.join(base_path, \"data/openshs-classification/\")\n",
    "\n",
    "ACTIVITIES = ['sleep', 'eat', 'personal', 'work', 'leisure', 'other']\n",
    "WINDOW_SIZE = 15\n",
    "LABEL_AHEAD = 1\n",
    "\n",
    "data = data_path + \"d1_2m_0tm.csv\"\n",
    "d = DATASET()  \n",
    "d.load_data(data, ACTIVITIES)\n",
    "train_data, test_data = d.split_data(test_percentage=0.2)\n",
    "trainX, trainY, activity_mapping  = d.form_data(train_data, WINDOW_SIZE, LABEL_AHEAD)\n",
    "testX, testY, activity_mapping  = d.form_data(test_data, WINDOW_SIZE, LABEL_AHEAD)\n",
    "\n",
    "print(trainX.shape, trainY.shape)\n",
    "print(testX.shape, testY.shape)\n",
    "\n",
    "# convert the dataset to Tensor format\n",
    "trainX_tensor = torch.tensor(trainX, dtype=torch.float32)\n",
    "testX_tensor = torch.tensor(testX, dtype=torch.float32)\n",
    "\n",
    "# convert one-hot encoded labels to class indices\n",
    "trainY_tensor = torch.argmax(torch.tensor(trainY, dtype=torch.float32), dim=1)\n",
    "testY_tensor = torch.argmax(torch.tensor(testY, dtype=torch.float32), dim=1)\n",
    "\n",
    "# convert to tensordataset\n",
    "train_tensor = TensorDataset(trainX_tensor, trainY_tensor)\n",
    "test_tensor = TensorDataset(testX_tensor, testY_tensor)"
   ]
  },
  {
   "cell_type": "code",
   "execution_count": 63,
   "metadata": {
    "id": "dIdQ9U3yTKtP"
   },
   "outputs": [],
   "source": [
    "class LSTM(nn.Module):\n",
    "    def __init__(self, window_size, num_features, num_categories):\n",
    "        super(LSTM, self).__init__()\n",
    "        self.lstm1 = nn.LSTM(input_size=num_features, hidden_size=32, batch_first=True)\n",
    "        self.lstm2 = nn.LSTM(input_size=32, hidden_size=32, batch_first=True)\n",
    "        self.dropout = nn.Dropout(0.2)\n",
    "        self.fc = nn.Linear(32, num_categories)\n",
    "        self.softmax = nn.Softmax(dim=1)\n",
    "        \n",
    "    def forward(self, x):\n",
    "        x, _ = self.lstm1(x)\n",
    "        x, _ = self.lstm2(x)\n",
    "        x = self.dropout(x[:, -1, :])  # take the last output for classification\n",
    "        x = self.fc(x)\n",
    "        x = self.softmax(x)\n",
    "        return x"
   ]
  },
  {
   "cell_type": "code",
   "execution_count": 64,
   "metadata": {},
   "outputs": [],
   "source": [
    "class Histories:\n",
    "    def __init__(self):\n",
    "        self.history = {'loss': [], 'f1': [], 'accuracy': []}\n",
    "    \n",
    "    def update(self, loss_value=None, f1_value=None, accuracy_value=None):\n",
    "        if loss_value is not None:\n",
    "            self.history['loss'].append(loss_value)\n",
    "        if f1_value is not None:\n",
    "            self.history['f1'].append(f1_value)\n",
    "        if accuracy_value is not None:\n",
    "            self.history['accuracy'].append(accuracy_value)\n",
    "\n",
    "    def get_history(self):\n",
    "        return self.history"
   ]
  },
  {
   "cell_type": "code",
   "execution_count": 65,
   "metadata": {},
   "outputs": [],
   "source": [
    "def plot_metrics(history):\n",
    "    epochs = range(1, len(history['loss']) + 1)\n",
    "    plt.style.use('ggplot')\n",
    "    plt.figure(figsize=(12, 6))\n",
    "    \n",
    "    # Plot training loss\n",
    "    plt.subplot(1, 2, 1)\n",
    "    plt.plot(epochs, history['loss'], label='Training Loss')\n",
    "    plt.xlabel('Epochs')\n",
    "    plt.ylabel('Loss')\n",
    "    plt.title('Training Loss vs Epochs')\n",
    "    plt.legend()\n",
    "    \n",
    "    # Plot F1 Score and Accuracy\n",
    "    plt.subplot(1, 2, 2)\n",
    "    plt.plot(epochs, history['f1'], label='Validation F1 Score')\n",
    "    plt.plot(epochs, history['accuracy'], label='Validation Accuracy')\n",
    "    plt.xlabel('Epochs')\n",
    "    plt.ylabel('Score')\n",
    "    plt.title('F1 Score & Accuracy vs Epochs')\n",
    "    plt.legend()\n",
    "    \n",
    "    plt.tight_layout()\n",
    "    plt.show()"
   ]
  },
  {
   "cell_type": "code",
   "execution_count": 66,
   "metadata": {},
   "outputs": [],
   "source": [
    "def train_model(train_tensor, test_tensor, model, batch_size, epochs, optimizer, loss_fn, histories):\n",
    "    \n",
    "    # create DataLoader for batching\n",
    "    train_loader = DataLoader(train_tensor, batch_size=batch_size, shuffle=False)\n",
    "    test_loader = DataLoader(test_tensor, batch_size=batch_size, shuffle=False)    \n",
    "\n",
    "    # train\n",
    "    for epoch in tqdm.trange(epochs):\n",
    "        running_loss = 0.0\n",
    "        \n",
    "        # Training loop\n",
    "        model.train()  # set model to training mode\n",
    "        for inputs, labels in train_loader:\n",
    "            optimizer.zero_grad()  # clear gradients\n",
    "            \n",
    "            # forward pass\n",
    "            outputs = model(inputs)\n",
    "            loss = loss_fn(outputs, labels)\n",
    "            \n",
    "            # backpropagation\n",
    "            loss.backward()\n",
    "            optimizer.step()\n",
    "\n",
    "            running_loss += loss.item()\n",
    "\n",
    "        avg_loss = running_loss / len(train_loader)\n",
    "        histories.update(loss_value=avg_loss)  # update history with training loss\n",
    "\n",
    "        # Evaluation\n",
    "        model.eval()  # set model to evaluation mode\n",
    "        all_preds = []\n",
    "        all_labels = []\n",
    "        with torch.no_grad():  # Disable gradient calculation for evaluation\n",
    "            for inputs, labels in test_loader:\n",
    "                outputs = model(inputs)\n",
    "                preds = torch.argmax(outputs, dim=1)\n",
    "                all_preds.extend(preds.cpu().numpy())\n",
    "                all_labels.extend(labels.cpu().numpy())\n",
    "\n",
    "        # Calculate F1 and accuracy for validation\n",
    "        f1 = f1_score(all_labels, all_preds, average='macro')  # F1 score\n",
    "        accuracy = accuracy_score(all_labels, all_preds)  # Accuracy\n",
    "        histories.update(f1_value=f1, accuracy_value=accuracy)  # Update history with F1 and accuracy\n",
    "\n",
    "        # print(f'Epoch {epoch+1}/{epochs}, Loss: {avg_loss:.4f}, F1: {f1:.4f}, Accuracy: {accuracy:.4f}')\n",
    "        # model.train()  # Switch back to training mode for next epoch\n",
    "\n",
    "    # # Export the trained model to ONNX after training\n",
    "    # if save_onnx:\n",
    "    #     # Prepare a sample input (batch size 1) for the ONNX export\n",
    "    #     input_sample = torch.randn(1, trainX.shape[1], trainX.shape[2])\n",
    "    #     torch.onnx.export(model, input_sample, onnx_filename, export_params=True, opset_version=11,\n",
    "    #                       input_names=['input'], output_names=['output'],\n",
    "    #                       dynamic_axes={'input': {0: 'batch_size'}, 'output': {0: 'batch_size'}})\n",
    "    #     print(f\"Model exported to {onnx_filename}\")\n",
    "    \n",
    "    return histories.get_history()"
   ]
  },
  {
   "cell_type": "code",
   "execution_count": 68,
   "metadata": {},
   "outputs": [
    {
     "name": "stdout",
     "output_type": "stream",
     "text": [
      "15 29 6\n"
     ]
    },
    {
     "name": "stderr",
     "output_type": "stream",
     "text": [
      "100%|██████████| 20/20 [04:01<00:00, 12.07s/it]\n"
     ]
    },
    {
     "data": {
      "image/png": "[encoded data removed]",
      "text/plain": [
       "<Figure size 1200x600 with 2 Axes>"
      ]
     },
     "metadata": {},
     "output_type": "display_data"
    }
   ],
   "source": [
    "model = LSTM(trainX.shape[1], trainX.shape[2], trainY.shape[1])\n",
    "print(trainX.shape[1], trainX.shape[2], trainY.shape[1])\n",
    "history = train_model(\n",
    "                    train_tensor, \n",
    "                    test_tensor, \n",
    "                    model=model, \n",
    "                    batch_size=10,\n",
    "                    epochs=20, \n",
    "                    optimizer=torch.optim.Adam(model.parameters(), lr=0.001),\n",
    "                    loss_fn=nn.CrossEntropyLoss(),\n",
    "                    histories=Histories()\n",
    "            )\n",
    "\n",
    "plot_metrics(history)"
   ]
  },
  {
   "cell_type": "markdown",
   "metadata": {
    "id": "JgtwrbMZcgla"
   },
   "source": [
    "# Step 2: ZK the Neural Network (Halo2)"
   ]
  },
  {
   "cell_type": "code",
   "execution_count": 69,
   "metadata": {
    "id": "C_YiqknhdDwN"
   },
   "outputs": [],
   "source": [
    "import os\n",
    "import json\n",
    "import ezkl\n",
    "import time\n",
    "from timeit import default_timer as timer"
   ]
  },
  {
   "cell_type": "code",
   "execution_count": 70,
   "metadata": {
    "id": "YeKWP0tFeCpq"
   },
   "outputs": [],
   "source": [
    "# Specify all the files we need\n",
    "model_path = os.path.join('network.onnx')\n",
    "compiled_model_path = os.path.join('network.compiled')\n",
    "data_path = os.path.join('input.json')\n",
    "settings_path = os.path.join('settings.json')\n",
    "cal_data_path = os.path.join('calibration.json')\n",
    "witness_path = os.path.join('witness.json')\n",
    "\n",
    "pk_path = os.path.join('pk.key')\n",
    "vk_path = os.path.join('vk.key')"
   ]
  },
  {
   "cell_type": "markdown",
   "metadata": {},
   "source": [
    "# ---- Key time measurements for the experiment ----"
   ]
  },
  {
   "cell_type": "code",
   "execution_count": 89,
   "metadata": {},
   "outputs": [
    {
     "name": "stdout",
     "output_type": "stream",
     "text": [
      "{'input_data': [[2.1740260124206543, 1.5715450048446655, 0.7518166899681091, -1.7759965658187866, 0.1443580538034439, -0.3938485085964203, 0.03480149060487747, 0.9983670711517334, -0.28379392623901367, -0.7491317391395569, -1.1484699249267578, 2.0258445739746094, 0.18385179340839386, 0.40950730443000793, 1.308642029762268, 0.49238213896751404, 0.9373497366905212, -0.018897920846939087, -0.8975223898887634, -1.2730612754821777, 0.08738871663808823, -1.1596558094024658, -1.205270767211914, 0.32883670926094055, 1.2445614337921143, -1.776907205581665, -1.1458383798599243, -0.08102808147668839, 1.2410438060760498, -0.1967238485813141, 1.204136848449707, -0.608171284198761, -0.9246098399162292, 1.0796692371368408, 0.5155728459358215, -1.7448992729187012, -0.5267559289932251, 0.15536879003047943, 1.06743586063385, 0.6439613699913025, 0.6484114527702332, 2.229217290878296, -0.45147743821144104, -0.25792843103408813, 0.2892643213272095, -0.7283487319946289, 1.266226887702942, -0.525412380695343, 1.0127074718475342, -1.4023334980010986, -1.2781728506088257, -0.5744609832763672, -0.36429038643836975, -0.24561716616153717, 1.374822735786438, -1.2673170566558838, 0.349065363407135, 0.5473431348800659, -2.233227252960205, 0.7726914882659912, -0.2530052661895752, 0.30088555812835693, -1.1114704608917236, 0.22608928382396698, 1.2621628046035767, 2.152486801147461, -0.8638267517089844, 1.2114670276641846, 1.4200581312179565, 0.8857176899909973, 1.257514238357544, 0.2735762894153595, 0.7648696303367615, -1.7861778736114502, 0.12235242873430252, 0.7251932621002197, 0.5032545328140259, -2.042668342590332, -0.1351853609085083, 0.052849140018224716, -0.04576678201556206, -0.8837025761604309, -1.5701582431793213, 0.7651338577270508, -0.15596643090248108, 0.19120389223098755, 0.6145995259284973, -0.4639643728733063, 0.06990298628807068, -0.2518174946308136, -0.34714269638061523, 0.34748220443725586, -1.901179313659668, -1.9616471529006958, -0.766679048538208, 1.573652982711792, 0.9336731433868408, 0.9976071119308472, -0.6145361661911011, -0.36501359939575195, 0.9528915286064148, -0.22782045602798462, -0.06251069903373718, 0.8639197945594788, 0.542778491973877, 0.6374721527099609, 0.4595981538295746, -0.6858940124511719, 0.7384335398674011, 1.0162806510925293, -0.5748353600502014, 0.6367977857589722, 0.6259979605674744, -1.376198649406433, 0.3149494230747223, -1.39115309715271, -2.108863353729248, 0.07131963223218918, -0.19113072752952576, 2.8574979305267334, 1.5505197048187256, -0.25259074568748474, -0.08289310336112976, -1.1880615949630737, 0.669998049736023, 0.48073938488960266, 0.9558939933776855, -2.3377838134765625, 1.188478946685791, -0.4448404610157013, 0.3579733371734619, -0.21415643393993378, 0.4553755223751068, 0.29057496786117554, 0.30066490173339844, 3.1369857788085938, -0.28750088810920715, 0.7903526425361633, 0.3335839509963989, -0.22810974717140198, -0.4705541729927063, 0.004710244480520487, 1.629220962524414, 1.4036061763763428, 0.565854012966156, 0.4986877739429474, 0.25097233057022095, -0.604331910610199, -0.7281762957572937, 1.2246646881103516, 1.1084702014923096, 2.0183181762695312, 1.0596338510513306, -1.2594497203826904, 0.8951839208602905, -0.27749329805374146, -0.09361014515161514, 1.0577020645141602, 0.24469980597496033, -1.3163307905197144, 0.9062287211418152, -0.6222308278083801, 0.18900038301944733, -1.7418075799942017, -1.421565294265747, 0.39094918966293335, 1.4149749279022217, -0.9044365882873535, -0.31217432022094727, -1.350699782371521, -0.907985270023346, 0.6588696837425232, 0.9127087593078613, 0.8690600395202637, -1.4645004272460938, -0.6839314103126526, 2.074000358581543, 0.2639808654785156, -0.3182058036327362, -0.6517036557197571, 0.6685882210731506, -0.772240936756134, -1.063527226448059, 2.8262879848480225, 0.04886288195848465, -0.7011212110519409, 0.3645454943180084, 1.9475029706954956, -1.4943668842315674, 0.22866782546043396, 0.004606698174029589, 0.18913815915584564, 0.16101035475730896, -0.7295843958854675, -0.13740617036819458, -0.25258868932724, 0.7860870957374573, 0.17083610594272614, -0.4754668176174164, 2.0009660720825195, -0.2959001362323761, -0.11628397554159164, -0.3875209391117096, -0.7954469323158264, 0.4174861013889313, 0.48636412620544434, -1.5609023571014404, -0.19007667899131775, 0.01712232083082199, 0.8434154987335205, 1.360363245010376, 0.3012639880180359, -0.16947272419929504, -0.7585735321044922, -1.2952133417129517, 0.9589102268218994, 1.0241559743881226, -0.5718457698822021, -1.0042177438735962, -0.1582212895154953, 0.3747909665107727, -1.3137638568878174, -0.11411289125680923, 1.1866358518600464, 0.5171123147010803, -1.6450916528701782, 0.9385243058204651, 0.14335209131240845, -0.2486291378736496, 0.5256386399269104, -2.3558928966522217, 0.9184076189994812, 1.9534026384353638, 0.6538664698600769, 0.6373562812805176, -1.262377142906189, 0.47051894664764404, -0.21269959211349487, 1.930370569229126, 0.636806070804596, -0.05161134526133537, 0.23357197642326355, -1.280956506729126, -1.6227915287017822, 0.2218116819858551, 1.4043018817901611, -0.0303991436958313, 0.8476442098617554, 1.705660104751587, -3.2746341228485107, 0.9388184547424316, 0.3215590715408325, -0.38610392808914185, -9.751946345204487e-05, 0.45581185817718506, -0.16834130883216858, 0.5212758779525757, -2.1630706787109375, -1.5717592239379883, 0.8453772068023682, 0.9953024983406067, 1.0523508787155151, -0.6602848172187805, 2.2107908725738525, -0.5961577296257019, -0.6551651954650879, -0.18963266909122467, -0.5261244773864746, -0.9504057765007019, -1.063199520111084, -0.6514074206352234, -0.21483013033866882, -0.30065229535102844, 0.834140956401825, -0.16574092209339142, 0.8749165534973145, -0.7412402629852295, 1.6910254955291748, -0.19802483916282654, -0.5988567471504211, 0.1476183384656906, 0.00111617601942271, -1.4634640216827393, -0.6274129748344421, 0.9070405960083008, 0.34760797023773193, -1.0841721296310425, -0.09494028240442276, -0.710691511631012, -0.4237145185470581, 1.0676029920578003, -0.038393255323171616, 0.33886104822158813, 0.7121938467025757, -0.5303417444229126, -1.6059712171554565, 1.3248156309127808, 1.24046790599823, -1.0864920616149902, -2.8597919940948486, -0.0947103276848793, -0.2541119456291199, -1.2356616258621216, 0.8968434929847717, -0.16293932497501373, -1.6882514953613281, 0.8765237331390381, -1.8171168565750122, 1.4293292760849, 0.7906774878501892, 0.7083649635314941, 1.0289734601974487, 1.5575826168060303, 0.3508627712726593, -2.165382146835327, -1.5255342721939087, -1.9174147844314575, 1.7645018100738525, 1.0423119068145752, 1.175574541091919, 0.6612290740013123, -0.014898574911057949, 0.8298059105873108, -1.5527986288070679, -1.890616536140442, 1.2934417724609375, -1.2140766382217407, 0.1288522332906723, 0.07980737835168839, -0.08265682309865952, -0.2952975332736969, 2.032940626144409, 1.0025352239608765, 0.8316152691841125, -0.9527217745780945, -0.7233448624610901, 0.6789845824241638, -0.6947152614593506, -0.0827454999089241, 1.015800952911377, 0.11484181880950928, 2.0850002765655518, 1.6719549894332886, -1.7952840328216553, -1.0027769804000854, -0.47948557138442993, 1.9351855516433716, 0.6931098103523254, -0.30792680382728577, 0.5627815127372742, -0.42495444416999817, 0.17494922876358032, -0.6249710917472839, -1.4758132696151733, -1.2551201581954956, 0.053656209260225296, 0.7453386783599854, -3.1364243030548096, 0.1657099574804306, -0.5293984413146973, 0.3047829568386078, -0.29118236899375916, -0.580863356590271, -0.4923386871814728, 0.12775281071662903, 0.7513598799705505, 0.8461241722106934, 0.28367915749549866, -0.5227584838867188, -1.9435685873031616, -0.04004376381635666, 0.9243984818458557, 0.8455700278282166, 1.9289778470993042, 0.23969963192939758, -0.24774464964866638, 0.8779743313789368, 0.4732697010040283, -0.5434837937355042, -0.44090157747268677, 0.11574438214302063, -0.34781399369239807, -0.9591648578643799, -0.5431414246559143, 1.0222235918045044, 0.6898898482322693, -0.3542563021183014, 1.1355830430984497, -1.4002881050109863, 0.3216857612133026, -1.3150066137313843, 1.3986657857894897, 0.67726731300354, 0.1466064304113388, 0.1328115612268448, 0.117117740213871, -0.9860506653785706, -0.7579323053359985, 0.043991196900606155, 0.8024308681488037, 0.3747331202030182, 3.6214993000030518, -0.5607169270515442, 0.7749707102775574, -1.5700280666351318, 0.3887203633785248, -2.146855115890503, 0.8065329790115356, 1.848308801651001, -0.621434211730957, 0.047226812690496445, -0.6618819236755371, -0.9332789778709412, -1.5192934274673462, 0.5651505589485168, -0.450310617685318, -0.625217616558075, 1.5367738008499146, 0.08982643485069275, 0.7587882876396179, 0.4661136269569397, 0.37391895055770874, 0.7239579558372498, 0.6521269083023071, -1.2514855861663818, -1.5619958639144897, 0.35520055890083313, 0.010785035789012909, -3.6767935752868652, 0.8922433853149414, -1.1706340312957764, 0.33001357316970825, -1.2776062488555908, -0.6633408069610596, -0.45227572321891785]]}\n",
      "Settings generated successfully.\n"
     ]
    },
    {
     "name": "stderr",
     "output_type": "stream",
     "text": [
      "Using 3 columns for non-linearity table.\n",
      "Using 3 columns for non-linearity table.\n",
      "Using 3 columns for non-linearity table.\n",
      "Using 3 columns for non-linearity table.\n",
      "Using 3 columns for non-linearity table.\n",
      "Using 6 columns for non-linearity table.\n",
      "Using 6 columns for non-linearity table.\n",
      "Using 6 columns for non-linearity table.\n",
      "Using 6 columns for non-linearity table.\n",
      "Using 6 columns for non-linearity table.\n",
      "Using 11 columns for non-linearity table.\n",
      "Using 11 columns for non-linearity table.\n",
      "Using 11 columns for non-linearity table.\n",
      "Using 11 columns for non-linearity table.\n",
      "Using 11 columns for non-linearity table.\n",
      "Using 11 columns for non-linearity table.\n",
      "Using 11 columns for non-linearity table.\n",
      "Using 11 columns for non-linearity table.\n",
      "Using 11 columns for non-linearity table.\n",
      "Using 11 columns for non-linearity table.\n",
      "\n",
      "\n",
      " <------------- Numerical Fidelity Report (input_scale: 11, param_scale: 11, scale_input_multiplier: 1) ------------->\n",
      "\n",
      "+--------------------+---------------------+------------------+-------------------+------------------+---------------------+------------------+---------------------+-------------------------+--------------------+------------------------+\n",
      "| mean_error         | median_error        | max_error        | min_error         | mean_abs_error   | median_abs_error    | max_abs_error    | min_abs_error       | mean_squared_error      | mean_percent_error | mean_abs_percent_error |\n",
      "+--------------------+---------------------+------------------+-------------------+------------------+---------------------+------------------+---------------------+-------------------------+--------------------+------------------------+\n",
      "| -0.000000006801661 | 0.00000000012305447 | 0.00000012406603 | -0.00000035762787 | 0.00000011240763 | 0.00000000012305447 | 0.00000035762787 | 0.00000000012305447 | 0.000000000000026722095 | 0.83333325         | 0.83333343             |\n",
      "+--------------------+---------------------+------------------+-------------------+------------------+---------------------+------------------+---------------------+-------------------------+--------------------+------------------------+\n",
      "\n",
      "\n"
     ]
    },
    {
     "name": "stdout",
     "output_type": "stream",
     "text": [
      "Calibration completed successfully.\n",
      "Compile time: 21.6484 seconds\n"
     ]
    }
   ],
   "source": [
    "# Flips the neural net into inference mode\n",
    "model.eval()\n",
    "\n",
    "# Export the model\n",
    "torch.onnx.export(model,                     # model being run\n",
    "                  torch.randn(1, 15, 29),    # model input (or a tuple for multiple inputs)\n",
    "                  model_path,                # where to save the model (can be a file or file-like object)\n",
    "                  export_params=True,        # store the trained parameter weights inside the model file\n",
    "                  opset_version=10,          # the ONNX version to export the model to\n",
    "                  do_constant_folding=True,  # whether to execute constant folding for optimization\n",
    "                  input_names = ['input'],   # the model's input names\n",
    "                  output_names = ['output'], # the model's output names\n",
    "                  dynamic_axes={'input' : {0 : 'batch_size'},    # variable length axes\n",
    "                                'output' : {0 : 'batch_size'}})\n",
    "\n",
    "# Parameters\n",
    "SEQ_LEN = 1  # Batch size for calibration\n",
    "input_shape = (SEQ_LEN, trainX.shape[1], trainX.shape[2])  # [batch_size, 15, 29]\n",
    "x = torch.randn(*input_shape)\n",
    "data_array = ((x).detach().numpy()).reshape([-1]).tolist()\n",
    "data_json = dict(input_data = [data_array])\n",
    "print(data_json)\n",
    "# Serialize data into file:\n",
    "json.dump( data_json, open(data_path, 'w' ))\n",
    "\n",
    "# Compile the circuit\n",
    "start = timer()\n",
    "\n",
    "# Generate calibration data\n",
    "calibration_input = torch.randn(*input_shape)\n",
    "data_array = calibration_input.detach().numpy().reshape([-1]).tolist()\n",
    "calibration_data = dict(input_data=[data_array])\n",
    "\n",
    "# Serialize calibration data to file\n",
    "json.dump(calibration_data, open(cal_data_path, \"w\"))\n",
    "\n",
    "# Run arguments for ezkl\n",
    "run_args = ezkl.PyRunArgs()\n",
    "run_args.variables = [(\"batch_size\", SEQ_LEN)]  # Set batch size\n",
    "\n",
    "# Generate ezkl settings\n",
    "res = ezkl.gen_settings(model_path, settings_path, py_run_args=run_args)\n",
    "assert res == True\n",
    "print(\"Settings generated successfully.\")\n",
    "\n",
    "# Calibrate settings\n",
    "res = await ezkl.calibrate_settings(cal_data_path, model_path, settings_path, \"resources\")\n",
    "assert res == True\n",
    "print(\"Calibration completed successfully.\")\n",
    "\n",
    "res = ezkl.compile_circuit(model_path, compiled_model_path, settings_path)\n",
    "assert res == True\n",
    "print(f\"Compile time: {timer() - start:.4f} seconds\")"
   ]
  },
  {
   "cell_type": "code",
   "execution_count": 90,
   "metadata": {},
   "outputs": [
    {
     "name": "stdout",
     "output_type": "stream",
     "text": [
      "Witness Gen time: 4.1271 seconds\n"
     ]
    }
   ],
   "source": [
    "# Witness Gen\n",
    "start = timer()\n",
    "res = await ezkl.get_srs( settings_path )\n",
    "\n",
    "res = await ezkl.gen_witness(data_path, compiled_model_path, witness_path)\n",
    "assert os.path.isfile(witness_path)\n",
    "\n",
    "res = ezkl.mock(witness_path, compiled_model_path)\n",
    "assert res == True\n",
    "print(f\"Witness Gen time: {timer() - start:.4f} seconds\")"
   ]
  },
  {
   "cell_type": "code",
   "execution_count": 86,
   "metadata": {},
   "outputs": [
    {
     "name": "stdout",
     "output_type": "stream",
     "text": [
      "Setup time: 24.6927 seconds\n"
     ]
    }
   ],
   "source": [
    "# Proof setup\n",
    "os.environ[\"RUST_LOG\"] = \"trace\"\n",
    "start = timer()\n",
    "res = ezkl.setup(\n",
    "        compiled_model_path,\n",
    "        vk_path,\n",
    "        pk_path,\n",
    "    )\n",
    "assert res == True\n",
    "assert os.path.isfile(vk_path)\n",
    "assert os.path.isfile(pk_path)\n",
    "assert os.path.isfile(settings_path)\n",
    "print(f\"Setup time: {timer() - start:.4f} seconds\")"
   ]
  },
  {
   "cell_type": "code",
   "execution_count": 77,
   "metadata": {},
   "outputs": [
    {
     "name": "stdout",
     "output_type": "stream",
     "text": [
      "{'instances': [['0000000000000000000000000000000000000000000000000000000000000000', '0000000000000000000000000000000000000000000000000000000000000000', '0000000000000000000000000000000000000000000000000000000000000000', '0000000000000000000000000000000000000000000000000000000000000000', '0000000000000000000000000000000000000000000000000000000000000000', '0010000000000000000000000000000000000000000000000000000000000000']], 'proof': '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', 'transcript_type': 'EVM'}\n",
      "Proof time: 28.5269 seconds\n"
     ]
    }
   ],
   "source": [
    "# GENERATE A PROOF\n",
    "start = timer()\n",
    "proof_path = os.path.join('test.pf')\n",
    "proof = ezkl.prove(\n",
    "        witness_path,\n",
    "        compiled_model_path,\n",
    "        pk_path,\n",
    "        proof_path,\n",
    "        \"single\",\n",
    "    )\n",
    "print(proof)\n",
    "assert os.path.isfile(proof_path)\n",
    "print(f\"Proof time: {timer() - start:.4f} seconds\")"
   ]
  },
  {
   "cell_type": "code",
   "execution_count": 78,
   "metadata": {},
   "outputs": [
    {
     "name": "stdout",
     "output_type": "stream",
     "text": [
      "verified\n",
      "Verify (local) time: 0.1893 seconds\n"
     ]
    }
   ],
   "source": [
    "# VERIFY IT\n",
    "start = timer()\n",
    "res = ezkl.verify(\n",
    "        proof_path,\n",
    "        settings_path,\n",
    "        vk_path,\n",
    "    )\n",
    "assert res == True\n",
    "print(\"verified\")\n",
    "print(f\"Verify (local) time: {timer() - start:.4f} seconds\")"
   ]
  },
  {
   "cell_type": "code",
   "execution_count": null,
   "metadata": {},
   "outputs": [],
   "source": []
  },
  {
   "cell_type": "code",
   "execution_count": 79,
   "metadata": {},
   "outputs": [],
   "source": [
    "# CREATE VERIFIER CONTRACT\n",
    "sol_code_path = os.path.join('Verifier-lstm.sol')\n",
    "abi_path = os.path.join('Verifier-lstm.abi')\n",
    "\n",
    "res = await ezkl.create_evm_verifier(\n",
    "        sol_code_path=sol_code_path,\n",
    "        abi_path=abi_path, \n",
    "    )\n",
    "\n",
    "assert res == True\n",
    "assert os.path.isfile(sol_code_path)"
   ]
  },
  {
   "cell_type": "code",
   "execution_count": 80,
   "metadata": {},
   "outputs": [
    {
     "name": "stdout",
     "output_type": "stream",
     "text": [
      "pubInputs:  [\"0x0000000000000000000000000000000000000000000000000000000000000000\", \"0x0000000000000000000000000000000000000000000000000000000000000000\", \"0x0000000000000000000000000000000000000000000000000000000000000000\", \"0x0000000000000000000000000000000000000000000000000000000000000000\", \"0x0000000000000000000000000000000000000000000000000000000000000000\", \"0x0000000000000000000000000000000000000000000000000000000000001000\"]\n",
      "proof:  0x12b4c5443113de36a5ed003b369df1ce05aac175944f479cac97990ea1fac7be231100b337de507bfaeceb4f24f6774447c997ebf038e2691d31d8aa11202cd1278e61370212b465af83c0b508942296547d9893a0b93f1676eb7e84fdf30c9b1e2d4069aece63f2830e6b8347d3c658d543bd9d0a640c696927705a4334f98216bed286ae7c961db997cd1db99614c4409ca5636a817c8f5e68921c899267e801e578c468d23aae763acfbb090301dba7414ad89eb080b441024fded508822a2692cbfbb92fccbf39653431f275fa412349a7e86bb12741a5891d862f7399ba0b89535bf1173c89ff00bec9cce2e4cfcacd7d8eb0e3a3f2c4765df7608dcdbb240eb904dd8bf55bc6cfa2d3201c00f17212d369a7c03bf9f7e90a6a601a18762d30a2eeb528a24413df9278affc33bed96150a43a70e4156cb27adca5dc44d10b61915a1c58166759608d04f22696544fcf238a2f69a60a9328a6bdcd6399eb23e815243134412c4570ac265d47afee2a6c6642d47a13f04733843b1af5650f1b4f88432d3b8dd0568858c7e7b35bd0670dc5f0d869dd54299e18c662c632201253d5272d7da9a74b358ed77727468425be8d035a51ea6438bb2e53da49564b1cd7720c2e4a8ec8bc784065ab8cec979fed37e39e8fec3d7988587463260d85005479b756d565c39aff109f6c40269d14bb32dbaacd6dc08abd3217c03e012510faf2fb95c8f7bb8f2832eaa05284d3be034529d437bda090d28830e228489b0082d62a95ab04e7ee6b141167786acf8a2c3f9999140b678d11117257998d9a054858db4c87d4397f8b08576adf1821886ad5b3bebdfb4d4a7d901d4c5c410909b83a4f2b07eaca575012a2edcea121256c39d48ed879f5a33c96893f07595a2bc5a6d3fbe412c378e35262a38026641e88886c4811c6b45aae2e9f6c8888310287fce37eb4efdc8d5a60683364e705d5f4a47bcad3fe1e277be77dcf1f85d018dcd64abc6e5a472ecb9e81a39922e53498847ac58137d355c44cfba94435cc2d78a3f17e83426495d697a6f4003fff04caa95f8a1257deb4170be4c25c576a0d2983f3128f03befc22a563d33f05e36d3ec58ed8b26e2d6f969664c44e983d2564f07878635e17355aa7b126172c5ff80ba349dd50b6f447233a23a7d2560303564192fac645938e3bb5c931e596c4fe3eb8cf2f8d0fcc2d11dee4e30e6b0a02ced0066c00d79cd2780126eeb20e7183421cadfb704e6a2b447db356cc6fcd0781999e7a3f6a8d96d1e13ed7acffd618848c5e7780372384d69844fe41766c1d1b6dfa97bde50d67370461391be039cb4cc230a42af679819adcf1acd98bb01ce6dde8fee5f8d501ee5170de2d8be5864c3dd489a71ea98c3b5c9e8cc8c7101760737307a387cea8702455f407364000d339aea4da64e36449758b7ee868e220150bb0ba216a3899d0ddcc03285615987d119a6e6db5f693672acb758228f917de79c3f04eba917240d4f272077d1112668d65d7ef5221027e7f0da264ec2c2d74e7e0b4a92b340ee9cce88fec51cc99a777b9dbf12115f9465ac42919b3722b76befb63325e7a87f23728fe5b33e25db810eb98d6f12351ce425c2ef4d63f0cbe6555dd663344a4cc8e9b21dc734a78f6b239dcb1390b9aa9f246023b23110b1772e571d06ef1fb46273007ff93f1ca51e2332cbb9838a1e5f1040fe9ee912255f9d36f4b4ddad21d512ac829ab2a4ab661a26b97861cb359790b84e4ee38177782f7383cc16635ab2abfdf14f22c3d51d37c40d073db7d0e11326b4db47f12c5c279ed93ffef621dcdb9f9b7126860481087e10a1c96b5184e555c0d87933063a9049eede784f326218b7ce2abb57dc570d5f7d264c406988916c45b62342aa783f009e97a2309fd40379922e425d0eb3d625516536ef695ea3d73414eb622d15ce6441efb4edf848648588bcdbb0049fd3de4ad6a26b8341e577975af0f2de7d56eb646284bb5a11e5075058a4ba535f3c79d545235ad596e9426bae6e706ec97ff215c2a956bc0ac969e8243e454fc8b2c9e1f8665759c436ad4ee705510091039820d2838fc3b33defc889c8dcde9e2c8a7c6915a8da7bd1b66c7d4912c96cbc33b1bb0faa3043fa747f8132acb111a34602b4391a6b79cb2c5f737da017d3f4024cfaf9f162bc2f9ad6d0de231754b8debf3b3fc1b49988735688548067f12ad132291d9e440453b837b7b9e3e36a37d236ff4119d0d02953bf186ba0f984170e4bcb15acc1bb56a0bfb6ac56ffaf6269ecf821ff2b7fa1339a6c9420a54c466e52a3780cb2dad1b3b7f9be197b7900dc493f452e73c0942aec1089b28ad2e989d3bdd1b0520f26a3b06c30a1eacfb2d23c4166a395101dd98cbb22e0169df18a096fe6f5c96871d6290102a69a2fad48ea3918bc12f35fc1fefc2ce19266b1e245f470db448fc68a445b3d807787466d91b86fb1d81420d8e70886710fb741bce613803e593458c5e39c13e004c8fa01fe18556bc3deaf982d997231dc40846c2c8cd58f774a95ee06db59deb629298a9b0ed2aea132dca4cabaf7918bb6ec26233035cd7bbeae642301e718dffb456618e54cc1d227e4d7ae4a5f3043b334917122c66f703c5f1fb8a461cec2efc2631a2d20937d478bdd526fc3405d6d1e58863c8dd2a193bc1aa366ba6f328b9cf9c4bc570cd24d829dfe2a48b1612bbdef5d3b751114c9ffe4bfb6e919e6a17639104c7885aa39fc5b1e70e1526f8b8bc1e623964873a5768f170abba40ae9e1fbf3dc39aa3f98e3884ea8fd9305225388146e6ca4ec8240f3cfecfed8aac03c06361f02b50e4fc8636bb7b081d1d2240746d9ba2521c6d3d81cab280ace58da5d2d61e69979935438e683c71178f8d066b9a150f25a1ce5b8bbf76a6ec330f487d86e4e1cb100598192655c800de382be15972ce9c0634a1b16267e3ab4ad71af201e95afa66502357ea24ea19cc87d3da6d6ce51157c04e1425157481d416a0b1727bc23a786e1845271cfb17e45b5bbd7dd8c00eb5e26783d07663579b9ac164020f4459cbd6b4b539fec1239a6d68e7de015af37b015ceff7ed18b249e4aae3cb810f290e2efb58d15a6321d0c80aaa2769e18618638887670f2cb7928835d83d809c761f151332cc39b006772feabed96bc528f32eef2097f762f5578a1a3b7446871a77c912267962ae1ca925688156836f6adbefe5ad3a86c798cc4525d0128af37d3ca591731393292b664f5a9eb54f454fd0c5c442f78c0ae771406e56c1c0eaa6532dbca476a77a2480229cc94c1029815fb5aeb3957e5b2c3c80f7fd1d7ac04e1f88a26dabd2c92afa5fdaa7a5a96db83c82c86101a5e24abb19b652364eee7474002b4393d0100e9227cc33e08b0e9ebe1a5f094f9a7c2a91d3cd3a4832d81fd28419899d41782d014601e00bfde7631bbd981c6723e7ad0846c6ea2c523b17f946bb23a46476098a00ca674abb3c46e88c76fb95269613a0b311e8199e4064bd07d7e5f8e4b500a85aa84354962021a9472c2bd3deb50d66b95d2cb9a3e688c4ecde304894782f80975cce5359dd2a1615b64cf2c2359731b5f0e40c58c47a837571fe5608842077db4bc1c879d283143f32f8d2f08ce5a8fc89809157a6cd2337e6adfa5fa71dbbcf671c34c0d4d193e6ec574cbdfb03856a52198171f07086a78180cdd0d7262773628c950329df474e7d9cb7c43c08f123d2774efd0577d98d9c37d5f2b7021dfbbb57ef9e23571e9bd1446b6d0bd9d0100913db3e38e8e88f51425ad947231034c0451c1f704154a75fa6338c7cedf15c60f7c59c47522b9a55a702b9cf047f92165a0b5b0de549a67eb330bfd91bc92c8a3f12b716bb336f75415f0007172bd525d9c953d0f1bdf5fb2027c0d2bfd2f2410939078362142285dac07f6a1380df277b05fa7f21598104b77a1abe6178e4cdc99256a2a5e060ed783566091c1e2a61b5b1260ceed7c9f8ec7f41b83b6859f0623b294fc6ecdd062ce0c53a134139e43920e36fe04bd3175de5078c71a5b1798349995da916707d1dfe9438284bcbd9429c615db8e845b64f5aefec55b4e9f59006f48c0edc97d406c5d08e17469a7a7eb01aa86eee6cc4fbf417283783d420d28c212f1d448ca73be4df5f13acfe0c4be021b276aa7506e994a7519c93c9c3a2577c944453f230547dc3c82ef51400dcc53b58efbb8fc34df0175c70ea2a77056cb96f8e86e2a028d4d92502eb0498fd94b57806db2587d336fc7e6dc802f128ce202a1d59bd55f14bb54f2617dcbd0688358a58ca9bf4ca07b521246bd9d9029336ab11ccf3747999ca8e0ba0160607ec7786041956b2b311bcc184fae863515575e3efc42d101aa701980ec49720dea6958c9a5eafbec0dd82c03a30938504433d679427cd01a8530c450f8e28b78e53b3274a0b07134c6fc689391ab90827f9072674fd374360b29c3810346b8377ccace21ce1b49424b23656173ed68605431a4e6f49065d6a0194db30080ec8b6f4944eb307ccad1eb30a96e866e7144f59af4088f8080d4831fc331cba92112073ff33deaff4f7994783bbb68916070d8c5f9ee16697df8f7c3e621463793e8c192021e435cc70831392dcf7314fd1c93c1700f00f8aefd69dc4e92de84d4c6559d5b6e669fa53a49342ed93db866bfbe3f579f76dc1a44544ab2c2481c18714c0b4bfa1620fcd250f04d7ab5c6a105ec6bf284fe5e340d215efe226d8a5bc5efab044fff6fe4f931dc225515467e1b14ae059c66a8d96b813cd1a05d3361c39f99053c020603eaa0b6f8ad93c980305ca6b9fe70f314c256129f813a024b1af6ab47ed1d7cc7f2e4c703764bcb0a65d959c6d1232b8bd3de12000139a071a2d9916043fb1b97faf0e0885acc411ce7e30f73186ee8c4e37674f1401746ccff4ede5b1c91685837340b07aa17ae166583d3077bb80e4e76f1df43e045da3ed3effeabc7da580f51cc4e1538c20b7b336725cef50cab42e04ceeb492ba47b9a2e0988f5cd679702e696ab1c45b60193214a25a47e05ee5507ee1d752ba47b9a2e0988f5cd679702e696ab1c45b60193214a25a47e05ee5507ee1d7502551d6a219847af53c7f02c7fa6ffb4f4194763152c96481b72d6d293b82a9425b4e0d51d0179d94fae13992f41ddd7bea744e6eea7218dc3e213d2c0b5f4d20000000000000000000000000000000000000000000000000000000000000000044534784ef05f340cad0010800b4578825ba08de3d548a4abe89b2b942b46e61a4e5e9176cf0b7e7a4c16792c8b1ad96c6fa0265dff23ef8251e4ab6d96dace1d48296dc53974c4470c56657ef42319ac271b4c2f2979089f62b697a8e2aade171d61b4dc605a9b867d28732b5a58ade15944f123405fb811e8ccaadf564dc619327c88236a225048545063ef028f37db1914ccc6e02045834324a586e4c2c719327c88236a225048545063ef028f37db1914ccc6e02045834324a586e4c2c72375c205d6a2377f901fc16ea592eb9c8ef3f7348f1e572ef337930ad245361c2738b32c803f33f61de34fbe041f13727e4f0f72713564d295ff8ffab4c70d5606f3efd72eaf0a027b17c0c19b0d1209122a28066d2a1cff88ceb2cd1ccad65e1dd1a2be6dd5c7e8ef9053cfa423378149aff745429e00e706e0c7d0a6587ce21a813454302ef5ecd6db988607ae9bb821b09e45ddeb4492c97486f5c3aa7b91245091f6aa39a1ef7646af72753812074266ad25bfc35f971e847cd310f2b7be223526365b1fab46f1731dd4c90a823ff5991cee5a4e6455bf0077071d1db41728fca666bcf60059b607451a0ba45b86823a55554850c356b10ef59ed11ae63a15e1129d702e0ff5b84f59a6192909f5ecfebea1a130acaf581ec07d65cbc1b21daed01a35665747fa8e7b69e44b6f5683acb1aafe65980f31d2b1d89bd9983c18df975d498f110c2d83b3a5d1027d7a96cdad4c1c577a4a883ed9c2f83253f408dcb6b3dad09a8842dc0f75b2464d350aafe5dc7f7a344ab8a1c580603963df1b9e4a2d5f007a5136740ed67815cecb498d825087110cbccd947f89ab929ee715763697a66f9f74831d9b615cb01c032b9bb668130eae4c7b36e9bfca46adf01f0cb0f1fa9ab304646c3104060fe5e942a67e8a0ff0aeb06707064948ec96cc2d9e59d976efa92546295f6c70b45012b893e7c73417d1734380cccd142fa0be2b9a09cc0574f3d7e5a5b1ba08a77ab641e398312b3a2b9b220ad3c19ebec2cc0ef0b423d6b410a5a4183f2a7585f6a7850931954e6d76fb33536d11f7f12c6302a4698fdd784171c5f8ffcd88dd32e7d59343c2e30f27bf73c5d8f83f5b61131094ccbdbedced26c87fe1e590ace9542b5e4cd3f600aa253b1285f82b2581792009bfaed7e00583c359acf185a034c928bccf43e73f776403be763142ad2f8c2bb1092ff03f58a5c807136bdb2808e079f801c85ba5d64c550afeaf458f6a3908cc7a66943cfeca0563a509017672d18df59717d01585bbe94be4522687091401a6135bb5ff7b4285676f5bd8682ced3fd61daee9d990e1e54a8a5ffef3564d1620a86d66a9d0aff8d03be4fdb302d6c59b729fc39ac764c24f1ce0b202465e1b6a39f84d8f0f373a6022ce4ffe47daaa9cc05aedfc8a3de5f850a1121fc2602f9a2af805243b2c3560b25c57681bdc17ad17a9e4bcfc347b2f07fc59a9699e150b61d738fc7f092b628ba95ed1a481d7d6d3a94d2082af2c93f3e74ea569e11b6236e24202609e44e09596c2cfc1920f76ea726d491b69cecfe0f5bab78501177fc7e99585827eadc2e2d7f94a5a1be3bf090248779d1ecf00a50d3851ce311f39df0cfe23fdc7eaaa8ef2ec36240ff7533b1526847f1d7722683fcd27036816a617fa1632809d50b98aba48ed4cada55026d1a46787a2681b1b35402fef01283cad9696462289e8e296cb5e016df9c8f4f3ad2dd7a132dfc5c6e6ef933872190bfb3e52cb3ce9e1646250921be052612f36a8a17be3ff616d1c9ca74a9ec00ed129d6207750a493d2bd863660d3ceab52b2798efb8ac873ca4f0f7dcfa5a1196d389bf0bb6db08284c1e460a103a8be237d15cf26b949f9862c46626ee77f035c464988126db5426a5c4a1e31ef67d0d95c19a3d7cc1e9c3bd4cebcc728b2028c3ed759a4e8d9b59b0da4d88eba6a12a82008ad7c2610a579577c972d1c0025ac08fac303ac0563acf0b2ff93cc577d60887850c48501cc4c27451f5ae77923d5f89026e2f8ba8aa177f39185ffa49b06b9690d2cf230ee56af0c6db6bdae2944e67a34481dd6e75942629f8e9375f08f84a3c65720fd64d998c3ad9db94c21d5b2c1b700bcaf1b14f58038f550fb0f80a8163d2c95616452be6e506880fd233d7afeabe2ed6207eedc2dd875b04aefe40b75bd60b4a764ccae2661e92e8215d72e5389453531d32a2a29f0bdf4ae7e192e8e77131858f71b42f2343450d703ede0976484c07b22e2fb6a171d77ebc5fcc811fa5545665ed3c689e68ce31101d8b0d228059a7a1e815e7e7c542ca96df9f0ab964c1ceeea9b7181094859551f6a0e859248082f703c72ba23ffbfc6cadeb1ff4fed8c44539b4f8e4263d5592e92eda2a39345205f006241677edd90e3cfbf5a2c3001977f3c29987976378416d6b06dc889db276476b2c748554fd59b62de910b45556ca09f08369d9c708412474533cb3314faf84df0732d81e2f91214eea2e97342195a2c6c79fdeec4d20c9f2a63f4b8aabcf53078da7eca10b1a3aac55c609ad9cac6977753fa9cbfeb0faa8ac8f030ac68b7e95aeff7b3f98cce70495448dd3518012673f1ac45cb7029d87f249b21a64c6e237422f2892f99e7f0138cf43a982e12fafe30c3eb6d4e05d46b2a59b2945b3aff6ba39d148d1e4a75ec10c40aeec734c1b9c2bf47e78e18299621679a94b4fa92a4778a41bf6dcdb1c970d863a1101b6bae8fd45e9aea0cc81ca9c3e3790e896a9305756514650588007a4759f2d3579401b3295bafbb1da34b6af404e0776b11c200879ccd9dab227bb6c7f93680676424db247604060d50795287dc24d74863887f4531ee41d4a76bf5fdead5f2b22c927d3f79cc951e24f8b1a40274a0ada7d23d9aa78f66eb3afe5ddf41dfe0912f06e9e38f6cfb1353d539bdd0bb4c5d62391c40b0b2eab50e339197e254780ae7228878e5989327904c82d0e2e50c36f89943209aca13a417ef9743b84962ff89a26d1e5d77212039ad364df83df7bc9257ba63b546e10a901e5107de6df9e08098df7eed3fde25b99bc3cff9764e759ac0966b5ce16ff0b506992f3997a943885b784625dbe4278605865b8091360326cb3141416d0c8f032eea6412a87673b4ae5f4b6aca6f20f2228a0c0942094cf6a33843bbca6ef6d01a7ed8adef679ce335d0e8fe9f0e3047e1c283a28caa946d8cbb1765ca4365d42a880eb35a261136052dcf9ba58f1429e03f27d0cdf646a023056af823b4e1467d34f1667c6893bd05d229af0c720cd8a2e36fba20ca5ec94a8d8ef6c2166c5dbc101b11de294f37da9a495ed9b42efb91a61016f707d2a5833a98e484487624a3d3ceed3969a5e15ee4a12801ea\n"
     ]
    }
   ],
   "source": [
    "# GENERATE EXAMPLE VERIFIERS\n",
    "onchain_input_array = []\n",
    "# using a loop\n",
    "# avoiding printing last comma\n",
    "formatted_output = \"[\"\n",
    "for i, value in enumerate(proof[\"instances\"]):\n",
    "    for j, field_element in enumerate(value):\n",
    "        onchain_input_array.append(ezkl.felt_to_big_endian(field_element))\n",
    "        formatted_output += '\"' + str(onchain_input_array[-1]) + '\"'\n",
    "        if j != len(value) - 1:\n",
    "            formatted_output += \", \"\n",
    "    if i != len(proof[\"instances\"]) - 1:\n",
    "        formatted_output += \", \"\n",
    "formatted_output += \"]\"\n",
    "\n",
    "# This will be the values you use onchain\n",
    "# copy them over to remix and see if they verify\n",
    "# What happens when you change a value?\n",
    "print(\"pubInputs: \", formatted_output)\n",
    "print(\"proof: \", proof[\"proof\"])"
   ]
  },
  {
   "cell_type": "markdown",
   "metadata": {},
   "source": [
    "# --- Legacy ----"
   ]
  },
  {
   "cell_type": "code",
   "execution_count": null,
   "metadata": {
    "colab": {
     "base_uri": "https://localhost:8080/"
    },
    "id": "cQeNw_qndQ8g",
    "outputId": "2d40f14e-7fbb-4377-e9ee-0e7678edb2ce"
   },
   "outputs": [],
   "source": [
    "# # After training, export to onnx (network.onnx) and create a data file (input.json)\n",
    "# start = timer()\n",
    "\n",
    "# # create a random input\n",
    "# # x = testX_tensor[0]\n",
    "# x = torch.randn(1, trainX.shape[1], trainX.shape[2])\n",
    "\n",
    "# # Flips the neural net into inference mode\n",
    "# model.eval()\n",
    "\n",
    "# # Export the model\n",
    "# torch.onnx.export(model,                     # model being run\n",
    "#                   x,                         # model input (or a tuple for multiple inputs)\n",
    "#                   model_path,                # where to save the model (can be a file or file-like object)\n",
    "#                   export_params=True,        # store the trained parameter weights inside the model file\n",
    "#                   opset_version=10,          # the ONNX version to export the model to\n",
    "#                   do_constant_folding=True,  # whether to execute constant folding for optimization\n",
    "#                   input_names = ['input'],   # the model's input names\n",
    "#                   output_names = ['output'], # the model's output names\n",
    "#                   dynamic_axes={'input' : {0 : 'batch_size'},    # variable length axes\n",
    "#                                 'output' : {0 : 'batch_size'}})\n",
    "\n",
    "# data_array = ((x).detach().numpy()).reshape([-1]).tolist()\n",
    "\n",
    "# data = dict(input_data = [data_array])\n",
    "\n",
    "#     # Serialize data into file:\n",
    "# json.dump(data, open(data_path, 'w'))\n",
    "\n",
    "# # !RUST_LOG=trace\n",
    "# # # TODO: Dictionary outputs\n",
    "# # res = ezkl.gen_settings()\n",
    "# # assert res == True\n",
    "\n",
    "# # # Optimize for resources, we cap logrows at 12 to reduce setup and proving time, at the expense of accuracy\n",
    "# # # You may want to increase the max logrows if accuracy is a concern\n",
    "# # res = await ezkl.calibrate_settings(target = \"resources\", max_logrows = 12, scales = [2])\n",
    "\n",
    "# run_args = ezkl.PyRunArgs()\n",
    "# run_args.variables = [(\"batch_size\", 15)]\n",
    "\n",
    "# # TODO: Dictionary outputs\n",
    "# res = ezkl.gen_settings(model_path, settings_path, py_run_args=run_args)\n",
    "# assert res == True\n",
    "\n",
    "# res = await ezkl.calibrate_settings(data_path, model_path, settings_path, \"resources\")\n",
    "# assert res == True\n",
    "\n",
    "# cal_path = os.path.join(\"calibration.json\")\n",
    "\n",
    "# # data_array = (torch.randn(10, *shape).detach().numpy()).reshape([-1]).tolist()\n",
    "\n",
    "# data = dict(input_data = [data_array])\n",
    "\n",
    "# # Serialize data into file:\n",
    "# json.dump(data, open(cal_path, 'w'))\n",
    "\n",
    "# # ezkl.calibrate_settings(cal_path, model_path, settings_path, \"resources\")\n",
    "\n",
    "\n",
    "\n",
    "# res = ezkl.compile_circuit()\n",
    "# compile_time = timer() - start\n",
    "# print(f\"Compile time: {compile_time:.4f} seconds\")\n"
   ]
  },
  {
   "cell_type": "code",
   "execution_count": null,
   "metadata": {},
   "outputs": [],
   "source": [
    "# # Measure setup time\n",
    "# start = timer()\n",
    "# res = await ezkl.get_srs()\n",
    "# res = ezkl.setup()\n",
    "# setup_time = timer() - start\n",
    "\n",
    "# print(f\"Setup time: {setup_time:.4f} seconds\")\n"
   ]
  },
  {
   "cell_type": "code",
   "execution_count": null,
   "metadata": {},
   "outputs": [],
   "source": [
    "# # Measure witness compute time\n",
    "# witness_path = os.path.join('witness.json')\n",
    "\n",
    "# start = timer()\n",
    "# res = await ezkl.gen_witness()\n",
    "# witness_time = timer() - start\n",
    "# assert os.path.isfile(witness_path)\n",
    "\n",
    "# print(f\"Witness computation time: {witness_time:.4f} seconds\")\n"
   ]
  },
  {
   "cell_type": "code",
   "execution_count": null,
   "metadata": {},
   "outputs": [],
   "source": [
    "# proof_path = os.path.join('proof.json')\n",
    "\n",
    "# # Measure proof generation time\n",
    "# start = timer()\n",
    "# proof = ezkl.prove(proof_type=\"single\", proof_path=proof_path)\n",
    "# proof_time = timer() - start\n",
    "# assert os.path.isfile(proof_path)\n",
    "\n",
    "# print(f\"Proof generation time: {proof_time:.4f} seconds\")"
   ]
  },
  {
   "cell_type": "code",
   "execution_count": null,
   "metadata": {},
   "outputs": [],
   "source": [
    "# with open('settings.json', 'r') as f:\n",
    "#     settings = json.load(f)\n",
    "#     print(json.dumps(settings, indent=2))\n"
   ]
  },
  {
   "cell_type": "code",
   "execution_count": null,
   "metadata": {
    "colab": {
     "base_uri": "https://localhost:8080/"
    },
    "id": "DuuH-qcOkQf1",
    "outputId": "375fdd63-1c0b-4c3c-eddd-f890a752923c"
   },
   "outputs": [],
   "source": [
    "# # verify our proof\n",
    "\n",
    "# res = ezkl.verify()\n",
    "\n",
    "# assert res == True\n",
    "# print(\"verified\")"
   ]
  },
  {
   "cell_type": "markdown",
   "metadata": {
    "id": "zrzPxPvZmX9b"
   },
   "source": [
    "You should see a `Verifier.sol`. Right-click and save it locally.\n",
    "\n",
    "### truffle deployment\n",
    "1. create  an empty directory `truffle`\n",
    "2. inside `/truffle`, `truffle init`\n",
    "3. `truffle compile` after finishing the contract\n",
    "4. `truffle migrate` after config `truffle-config.js`\n",
    "5. use python- `web3` to interact\n",
    "\n",
    "\n",
    "### remix deployment\n",
    "Now go to [https://remix.ethereum.org](https://remix.ethereum.org).\n",
    "\n",
    "Create a new file within remix and copy the verifier code over.\n",
    "\n",
    "Finally, compile the code and deploy. For the demo you can deploy to the test environment within remix.\n",
    "\n",
    "If everything works, you would have deployed your verifer onchain! Copy the values in the cell above to the respective fields to test if the verifier is working.\n",
    "\n",
    "**Note that right now this setup accepts random values!**\n",
    "\n",
    "This might not be great for some applications. For that we will want to use a data attested verifier instead. [See this tutorial.](https://github.com/zkonduit/ezkl/blob/main/examples/notebooks/data_attest.ipynb)"
   ]
  }
 ],
 "metadata": {
  "colab": {
   "provenance": []
  },
  "kernelspec": {
   "display_name": "base",
   "language": "python",
   "name": "python3"
  },
  "language_info": {
   "codemirror_mode": {
    "name": "ipython",
    "version": 3
   },
   "file_extension": ".py",
   "mimetype": "text/x-python",
   "name": "python",
   "nbconvert_exporter": "python",
   "pygments_lexer": "ipython3",
   "version": "3.9.12"
  }
 },
 "nbformat": 4,
 "nbformat_minor": 0
}
